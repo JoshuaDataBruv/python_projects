{
 "cells": [
  {
   "cell_type": "code",
   "execution_count": null,
   "id": "bfac3a4f",
   "metadata": {},
   "outputs": [],
   "source": [
    "# Calculator Project! Using addition, subtraction, division, and multiplication"
   ]
  },
  {
   "cell_type": "code",
   "execution_count": 1,
   "id": "e0028870",
   "metadata": {},
   "outputs": [],
   "source": [
    "# These are the functions that will be used to make the math calculations.\n",
    "def add(x,y):\n",
    "    return x + y\n",
    "\n",
    "def subtract(x,y):\n",
    "    return x - y\n",
    "\n",
    "def multiply(x,y):\n",
    "    return x * y\n",
    "\n",
    "def divide(x,y):\n",
    "    return x / y"
   ]
  },
  {
   "cell_type": "code",
   "execution_count": 6,
   "id": "2a1d3fb9",
   "metadata": {
    "scrolled": false
   },
   "outputs": [
    {
     "name": "stdout",
     "output_type": "stream",
     "text": [
      "Enter 'A' for Addition.\n",
      "Enter 'S' for Subtraction.\n",
      "Enter 'M' for Multiplication.\n",
      "Enter 'D' for Division. \n",
      "\n",
      "Enter Choice (A,S,M,D): add\n",
      "Enter first number: 125\n",
      "Enter second number: 33.33\n",
      "Result: 125.0 + 33.33 = 158.33 \n",
      "\n",
      "Want to do another calculation? (yes/no?): yes\n",
      "Enter Choice (A,S,M,D): s\n",
      "Enter first number: 100.69\n",
      "Enter second number: 45\n",
      "Result: 100.69 - 45.0 = 55.69 \n",
      "\n",
      "Want to do another calculation? (yes/no?): yes\n",
      "Enter Choice (A,S,M,D): m\n",
      "Enter first number: 1000\n",
      "Enter second number: 55\n",
      "Result: 1000.0 * 55.0 = 55000.0 \n",
      "\n",
      "Want to do another calculation? (yes/no?): yes\n",
      "Enter Choice (A,S,M,D): d\n",
      "Enter first number: 95\n",
      "Enter second number: 12\n",
      "Result: 95.0 / 12.0 = 7.92 \n",
      "\n",
      "Want to do another calculation? (yes/no?): no\n"
     ]
    }
   ],
   "source": [
    "#The print statements below is to give the user context on what (A,S,M,D) mean.\n",
    "print(\"Enter 'A' for Addition.\")\n",
    "print(\"Enter 'S' for Subtraction.\")\n",
    "print(\"Enter 'M' for Multiplication.\")\n",
    "print(\"Enter 'D' for Division. \\n\")\n",
    "\n",
    "\n",
    "# Creating a while loop so the user does not have to run the code at the very beginning everytime. \n",
    "while True:\n",
    "    # Insert the calculation you want to perform. This is where the while loop will begin.\n",
    "    choice = input('Enter Choice (A,S,M,D): ')\n",
    "    \n",
    "    #Insert one of the choices below in the 'in' statement to begin picking the two numbers you want to use in your calulation.\n",
    "    if choice.upper() in ('A','ADD','ADDITION','S','SUB','SUBTRACTION','M','MULTI','MULTIPLY','MULTIPLICATION','D','DIVIDE','DIVISION'):\n",
    "        num1 = float(input('Enter first number: '))\n",
    "        num2 = float(input('Enter second number: '))\n",
    "\n",
    "        # The if statement below will call the correct function based on your choice (A,S,M,D), and the print statements are used to format the results.\n",
    "        if choice.upper() in ('A','ADD','ADDITION'):\n",
    "            print('Result:',num1, '+', num2, '=', round(add(num1,num2),2), '\\n')\n",
    "\n",
    "        elif choice.upper() in ('S','SUB','SUBTRACTION'):\n",
    "            print('Result:',num1, '-', num2, '=', round(subtract(num1,num2),2), '\\n')\n",
    "\n",
    "        elif choice.upper() in ('M','MULTI','MULTIPLY'):\n",
    "            print('Result:',num1, '*', num2, '=', round(multiply(num1,num2),2), '\\n')\n",
    "\n",
    "        elif choice.upper() in ('D','DIVIDE','DIVISION'):\n",
    "            print('Result:',num1, '/', num2, '=', round(divide(num1,num2),2), '\\n')\n",
    "\n",
    "    # Else statement is used to alert the user if they did not use the correct choices (A,S,M,D).\n",
    "    else:\n",
    "        print('Incorrect, Enter Choice (A,S,M,D).')\n",
    "        \n",
    "    # The next_calculation input will ask the user if they want to continue making calculations.\n",
    "    next_calculation = input('Want to do another calculation? (yes/no?): ')\n",
    "    \n",
    "    # If the user wants to discontinue making calculations they will say 'no' to break the while loop.\n",
    "    if next_calculation.lower() in ('no','n','nope'):\n",
    "        break\n",
    "        "
   ]
  }
 ],
 "metadata": {
  "kernelspec": {
   "display_name": "Python 3 (ipykernel)",
   "language": "python",
   "name": "python3"
  },
  "language_info": {
   "codemirror_mode": {
    "name": "ipython",
    "version": 3
   },
   "file_extension": ".py",
   "mimetype": "text/x-python",
   "name": "python",
   "nbconvert_exporter": "python",
   "pygments_lexer": "ipython3",
   "version": "3.11.7"
  }
 },
 "nbformat": 4,
 "nbformat_minor": 5
}
