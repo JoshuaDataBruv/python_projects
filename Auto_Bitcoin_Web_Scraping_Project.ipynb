{
 "cells": [
  {
   "cell_type": "code",
   "execution_count": 114,
   "id": "ec6bb445",
   "metadata": {},
   "outputs": [],
   "source": [
    "# Pulling bitcoin price from https://coinmarketcap.com/currencies/bitcoin/ every 60 seconds."
   ]
  },
  {
   "cell_type": "code",
   "execution_count": 119,
   "id": "050d83e6",
   "metadata": {
    "scrolled": true
   },
   "outputs": [
    {
     "name": "stdout",
     "output_type": "stream",
     "text": [
      "  Crypto Name      Price                       Time\n",
      "0     Bitcoin  64,173.16 2024-04-24 14:22:43.648411\n",
      "  Crypto Name      Price                       Time\n",
      "0     Bitcoin  64,237.85 2024-04-24 14:23:43.868164\n",
      "  Crypto Name      Price                       Time\n",
      "0     Bitcoin  64,237.85 2024-04-24 14:24:44.084557\n",
      "  Crypto Name      Price                       Time\n",
      "0     Bitcoin  64,251.88 2024-04-24 14:25:44.288958\n",
      "  Crypto Name      Price                       Time\n",
      "0     Bitcoin  64,251.88 2024-04-24 14:26:44.794576\n",
      "Stopped by the user\n"
     ]
    }
   ],
   "source": [
    "# Import necessary libraries. BeautifulSoup for parsing HTML, datetime for timestamping, requests for HTTP requests,\n",
    "# pandas for data manipulation, os for operating system dependent functionality, time for timing operations.\n",
    "from bs4 import BeautifulSoup\n",
    "from datetime import datetime\n",
    "import requests\n",
    "import pandas as pd\n",
    "import os\n",
    "import time\n",
    "\n",
    "\n",
    "# Define a function to scrape cryptocurrency data, specifically Bitcoin, from a website.\n",
    "def automated_crypto_pull():\n",
    "    # URL of the page where Bitcoin data is located. \n",
    "    url = 'https://coinmarketcap.com/currencies/bitcoin/'\n",
    "    # Make an HTTP request to the URL and store the response.\n",
    "    page = requests.get(url)\n",
    "    # Parse the text of the page (HTML content) using BeautifulSoup.\n",
    "    soup = BeautifulSoup(page.text, 'html')\n",
    "    \n",
    "    # Extract the cryptocurrency name from the specified span element using its class. Clean it to remove ' price\\xa0'.\n",
    "    crypto_name = soup.find('span', class_ = 'sc-f70bb44c-0 jltoa').text\n",
    "    final_name = crypto_name.replace(' price\\xa0','')\n",
    "    \n",
    "    # Extract the cryptocurrency price from another span element and remove the dollar sign for clean numeric processing.\n",
    "    crypto_price = soup.find('span', class_ = 'sc-f70bb44c-0 jxpCgO base-text').text\n",
    "    final_price = crypto_price.replace('$','')\n",
    "    \n",
    "    # Get the current date and time to timestamp when the data was pulled.\n",
    "    date_time = datetime.now()\n",
    "    \n",
    "    # Create a dictionary to store the cleaned data along with the timestamp.\n",
    "    dict = {'Crypto Name':final_name,'Price':final_price,'Time': date_time}\n",
    "    # Convert the dictionary into a pandas DataFrame for easy CSV writing.\n",
    "    df = pd.DataFrame([dict])\n",
    "    \n",
    "    # Check if the CSV file already exists.\n",
    "    if os.path.exists(r'/Users/joshuacaldwell/Documents/python_tut/crypto_web_puller/crypto_automated_pull.csv'):\n",
    "        # If it exists, append the new data to the CSV without writing headers again.\n",
    "        df.to_csv(r'/Users/joshuacaldwell/Documents/python_tut/crypto_web_puller/crypto_automated_pull.csv', mode='a', header= False, index = False)\n",
    "    else:\n",
    "        # If the CSV doesn't exist, write the DataFrame to a new CSV file, including headers.\n",
    "        df.to_csv(r'/Users/joshuacaldwell/Documents/python_tut/crypto_web_puller/crypto_automated_pull.csv', index = False)\n",
    "        \n",
    "    # Print the DataFrame to the console to confirm what was written.    \n",
    "    print(df)\n",
    "    \n",
    "# Main loop to continuously perform the data pull.    \n",
    "try:   \n",
    "    while True:\n",
    "        automated_crypto_pull()\n",
    "        # Wait for 60 seconds before pulling the data again.\n",
    "        time.sleep(60)\n",
    "# Handle the KeyboardInterrupt to stop the loop and display a message. Double click 'I' to stop while loop.\n",
    "except KeyboardInterrupt:\n",
    "    print('Stopped by the user')\n",
    "\n",
    "\n"
   ]
  }
 ],
 "metadata": {
  "kernelspec": {
   "display_name": "Python 3 (ipykernel)",
   "language": "python",
   "name": "python3"
  },
  "language_info": {
   "codemirror_mode": {
    "name": "ipython",
    "version": 3
   },
   "file_extension": ".py",
   "mimetype": "text/x-python",
   "name": "python",
   "nbconvert_exporter": "python",
   "pygments_lexer": "ipython3",
   "version": "3.11.7"
  }
 },
 "nbformat": 4,
 "nbformat_minor": 5
}
