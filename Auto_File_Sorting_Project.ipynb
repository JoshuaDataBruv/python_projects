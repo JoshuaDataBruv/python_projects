{
 "cells": [
  {
   "cell_type": "code",
   "execution_count": 51,
   "id": "f31b72a4",
   "metadata": {},
   "outputs": [],
   "source": [
    "# Importing python os and shutil module to assist with file system functionality\n",
    "import os, shutil"
   ]
  },
  {
   "cell_type": "code",
   "execution_count": 52,
   "id": "2dc2f090",
   "metadata": {},
   "outputs": [
    {
     "data": {
      "text/plain": [
       "['demo.txt',\n",
       " '.DS_Store',\n",
       " 'Text_Files',\n",
       " 'sample_superstore copy.csv',\n",
       " 'github_logo.png',\n",
       " 'CSV_files',\n",
       " 'Election_Register.csv',\n",
       " 'Election_Register copy.csv',\n",
       " 'Image_Files',\n",
       " 'mountaineer_th.png',\n",
       " 'sample_superstore.csv',\n",
       " 'demo copy.txt']"
      ]
     },
     "execution_count": 52,
     "metadata": {},
     "output_type": "execute_result"
    }
   ],
   "source": [
    "# File path where the test files and folder is located.\n",
    "path = r'/Users/joshuacaldwell/Documents/python_tut/auto_py_sorter//'\n",
    "\n",
    "# List of the contents in the auto_py_sorter folder.\n",
    "os.listdir(path)"
   ]
  },
  {
   "cell_type": "code",
   "execution_count": 54,
   "id": "9431ccb7",
   "metadata": {},
   "outputs": [
    {
     "data": {
      "text/plain": [
       "['.DS_Store', 'Text_Files', 'CSV_files', 'Image_Files']"
      ]
     },
     "execution_count": 54,
     "metadata": {},
     "output_type": "execute_result"
    }
   ],
   "source": [
    "# A list of the folders to be created in the auto_py_sorter folder\n",
    "folder_names = ['CSV_files','Text_Files','Image_Files']\n",
    "\n",
    "# If folder names in the path do not exist the for loop will create the new folders.\n",
    "for folder in folder_names:\n",
    "    if not os.path.exists(path + folder):\n",
    "        os.makedirs(path + folder)\n",
    "\n",
    "# Setting a variable to equal the contents in the folder auto_py_sorter.        \n",
    "file_names = os.listdir(path)\n",
    "\n",
    "# Moved txt, csv, and png files to their newly created folders useing a for loop. \n",
    "for file in file_names:\n",
    "    if \".csv\" in file and not os.path.exists(path + \"CSV_files//\" + file):\n",
    "        shutil.move(path + file, path + \"CSV_files//\" + file)\n",
    "    elif \".png\" in file and not os.path.exists(path + \"Image_Files//\" + file):\n",
    "        shutil.move(path + file, path + \"Image_Files//\" + file)\n",
    "    elif \".txt\" in file and not os.path.exists(path + \"Text_Files//\" + file):\n",
    "        shutil.move(path + file, path + \"Text_Files//\" + file)\n",
    "        \n",
    "# Final list shows that the files where moved to their correct folders.        \n",
    "os.listdir(path)"
   ]
  }
 ],
 "metadata": {
  "kernelspec": {
   "display_name": "Python 3 (ipykernel)",
   "language": "python",
   "name": "python3"
  },
  "language_info": {
   "codemirror_mode": {
    "name": "ipython",
    "version": 3
   },
   "file_extension": ".py",
   "mimetype": "text/x-python",
   "name": "python",
   "nbconvert_exporter": "python",
   "pygments_lexer": "ipython3",
   "version": "3.11.7"
  }
 },
 "nbformat": 4,
 "nbformat_minor": 5
}
