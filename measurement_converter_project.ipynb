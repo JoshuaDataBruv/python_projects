{
 "cells": [
  {
   "cell_type": "code",
   "execution_count": null,
   "id": "bbee6503",
   "metadata": {
    "collapsed": true
   },
   "outputs": [
    {
     "name": "stdout",
     "output_type": "stream",
     "text": [
      "Enter starting unit of measurement (inches, feet, yards):inches\n"
     ]
    }
   ],
   "source": [
    "# Variables to be used in measurement converter project\n",
    "convert_from = input('Enter starting unit of measurement (inches, feet, yards):')\n",
    "\n",
    "convert_to = input('Enter unit of measurement to convert to (inches, feet, yards):')\n",
    "\n",
    "number_of_inches = input('Enter starting measurement in Inches:')\n",
    "\n",
    "number_of_feet = input('Enter starting measurement in feet:')\n",
    "\n",
    "number_of_yards = input('Enter starting measurement in yards:')"
   ]
  },
  {
   "cell_type": "code",
   "execution_count": 19,
   "id": "6a7d0a5e",
   "metadata": {},
   "outputs": [
    {
     "name": "stdout",
     "output_type": "stream",
     "text": [
      "Enter starting unit of measurement (inches, feet, yards): ft\n",
      "Enter unit of measurement to convert to (inches, feet, yards): yards\n",
      "Enter starting measurement in feet:876\n",
      "Result: 876 Feet = 292.0 Yards\n"
     ]
    }
   ],
   "source": [
    "# Inputs to ask user what measures they want to convert\n",
    "\n",
    "# Run code below to get started\n",
    "convert_from = input('Enter starting unit of measurement (inches, feet, yards): ')\n",
    "\n",
    "convert_to = input('Enter unit of measurement to convert to (inches, feet, yards): ')\n",
    "\n",
    "# Converting inches to either feet or yards\n",
    "if convert_from.lower() in ['inches','inch','in']:\n",
    "    number_of_inches = int(input('Enter starting measurement in Inches:'))\n",
    "    \n",
    "    if convert_to.lower() in ['feet','ft','foot']:\n",
    "        print('Result: ' + str(number_of_inches) + ' Inches = ' + str(round(number_of_inches / 12,2)) + ' Feet')\n",
    "    elif convert_to.lower() in ['yards','yard','yds','yd']:\n",
    "        print('Result: ' + str(number_of_inches) + ' Inches = ' + str(round(number_of_inches / 36,2)) + ' Yards')\n",
    "    else:\n",
    "        print('Insert correct input (yards, feet, or inches)')\n",
    "\n",
    "# Converting feet to either inches or yards        \n",
    "elif convert_from.lower() in ['feet','ft','foot']:\n",
    "    number_of_feet = int(input('Enter starting measurement in feet:'))\n",
    "    \n",
    "    if convert_to.lower() in ['inches','inch','in']:\n",
    "        print('Result: ' + str(number_of_feet) + ' Feet = ' + str(round(number_of_feet * 12,2)) + ' Inches')\n",
    "    elif convert_to.lower() in ['yards','yard','yds','yd']:\n",
    "        print('Result: ' + str(number_of_feet) + ' Feet = ' + str(round(number_of_feet / 3,2)) + ' Yards')\n",
    "    else:\n",
    "        print('Insert correct input (yards, feet, or inches)')\n",
    "\n",
    "\n",
    "# Converting yards to either inches or feet\n",
    "elif convert_from.lower() in ['yards','yard','yds','yd']:\n",
    "    number_of_yards = int(input('Enter starting measurement in yards:'))\n",
    "    \n",
    "    if convert_to.lower() in ['inches','inch','in']:\n",
    "        print('Result: ' + str(number_of_yards) + ' Yards = ' + str(round(number_of_yards * 36,2)) + ' Inches')\n",
    "    elif convert_to.lower() in ['feet','ft','foot']:\n",
    "        print('Result: ' + str(number_of_yards) + ' Feet = ' + str(round(number_of_yards * 3,2)) + ' Feet')\n",
    "    else:\n",
    "        print('Insert correct input (yards, feet, or inches)')\n",
    "else:\n",
    "    print('Insert correct input (yards, feet, or inches)')\n",
    "    \n",
    "\n",
    "    "
   ]
  },
  {
   "cell_type": "code",
   "execution_count": null,
   "id": "426c6883",
   "metadata": {},
   "outputs": [],
   "source": []
  },
  {
   "cell_type": "code",
   "execution_count": null,
   "id": "a26c31f0",
   "metadata": {},
   "outputs": [],
   "source": []
  },
  {
   "cell_type": "code",
   "execution_count": null,
   "id": "dc8a891c",
   "metadata": {},
   "outputs": [],
   "source": []
  },
  {
   "cell_type": "code",
   "execution_count": null,
   "id": "a0671af2",
   "metadata": {},
   "outputs": [],
   "source": []
  }
 ],
 "metadata": {
  "kernelspec": {
   "display_name": "Python 3 (ipykernel)",
   "language": "python",
   "name": "python3"
  },
  "language_info": {
   "codemirror_mode": {
    "name": "ipython",
    "version": 3
   },
   "file_extension": ".py",
   "mimetype": "text/x-python",
   "name": "python",
   "nbconvert_exporter": "python",
   "pygments_lexer": "ipython3",
   "version": "3.11.7"
  }
 },
 "nbformat": 4,
 "nbformat_minor": 5
}
