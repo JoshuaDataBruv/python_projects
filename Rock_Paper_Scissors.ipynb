{
 "cells": [
  {
   "cell_type": "code",
   "execution_count": 35,
   "metadata": {},
   "outputs": [
    {
     "name": "stdout",
     "output_type": "stream",
     "text": [
      "You chose:\n",
      "\n",
      "    _______\n",
      "---'   ____)\n",
      "      (_____)\n",
      "      (_____)\n",
      "      (____)\n",
      "---.__(___)\n",
      "\n",
      "Computer chose:\n",
      "\n",
      "    _______\n",
      "---'   ____)____\n",
      "          ______)\n",
      "          _______)\n",
      "         _______)\n",
      "---.__________)\n",
      "\n",
      "You Lose!\n"
     ]
    }
   ],
   "source": [
    "import random  # Importing the random module to generate random choices for the computer\n",
    "\n",
    "# Defining the ASCII art for rock, paper, and scissors\n",
    "rock = '''\n",
    "    _______\n",
    "---'   ____)\n",
    "      (_____)\n",
    "      (_____)\n",
    "      (____)\n",
    "---.__(___)\n",
    "'''\n",
    "paper = '''\n",
    "    _______\n",
    "---'   ____)____\n",
    "          ______)\n",
    "          _______)\n",
    "         _______)\n",
    "---.__________)\n",
    "'''\n",
    "scissors = '''\n",
    "    _______\n",
    "---'   ____)____\n",
    "          ______)\n",
    "       __________)\n",
    "      (____)\n",
    "---.__(___)\n",
    "'''\n",
    "\n",
    "# Creating a list of the game images for easy access\n",
    "game_images = [rock, paper, scissors]\n",
    "\n",
    "# Asking the user to input their choice: 0 for rock, 1 for paper, or 2 for scissors\n",
    "user_choice = int(input('Choose a number to start the game. 0 = rock, 1 = paper, and 2 = scissors.\\n'))\n",
    "\n",
    "# Printing the user's choice\n",
    "print(f'You chose:')\n",
    "\n",
    "# Checking if the user input is valid (between 0 and 2)\n",
    "if user_choice >= 3 or user_choice < 0:\n",
    "    print(\"Invalid number, you lose!\")  # If the input is not valid, print an error message and end the game\n",
    "else:\n",
    "    print(game_images[user_choice])  # If the input is valid, print the corresponding game image\n",
    "\n",
    "    # Generate a random choice for the computer (0 for rock, 1 for paper, or 2 for scissors)\n",
    "    computer_choice = random.randint(0, 2)\n",
    "    print(f'Computer chose:')\n",
    "    print(game_images[computer_choice])  # Print the computer's choice\n",
    "\n",
    "    # Determine the outcome of the game based on the rules of rock-paper-scissors\n",
    "    if user_choice == 0 and computer_choice == 2:\n",
    "        print('You win!')  # Rock beats scissors\n",
    "    elif computer_choice == 0 and user_choice == 2:\n",
    "        print(\"You Lose!\")  # Scissors lose to rock\n",
    "    elif computer_choice > user_choice:\n",
    "        print('You Lose!')  # If the computer's choice is greater, the user loses\n",
    "    elif user_choice > computer_choice:\n",
    "        print(\"You win!\")  # If the user's choice is greater, the user wins\n",
    "    elif computer_choice == user_choice:\n",
    "        print(\"It's a draw!\")  # If both choices are the same, it's a draw\n"
   ]
  }
 ],
 "metadata": {
  "kernelspec": {
   "display_name": "Python 3",
   "language": "python",
   "name": "python3"
  },
  "language_info": {
   "codemirror_mode": {
    "name": "ipython",
    "version": 3
   },
   "file_extension": ".py",
   "mimetype": "text/x-python",
   "name": "python",
   "nbconvert_exporter": "python",
   "pygments_lexer": "ipython3",
   "version": "3.12.1"
  }
 },
 "nbformat": 4,
 "nbformat_minor": 2
}
